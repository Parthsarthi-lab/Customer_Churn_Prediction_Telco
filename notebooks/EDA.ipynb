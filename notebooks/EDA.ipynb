{
 "cells": [
  {
   "cell_type": "code",
   "execution_count": 1,
   "metadata": {},
   "outputs": [],
   "source": [
    "import pandas as pd\n",
    "import numpy as np\n",
    "import matplotlib.pyplot as plt"
   ]
  },
  {
   "cell_type": "code",
   "execution_count": 5,
   "metadata": {},
   "outputs": [
    {
     "name": "stdout",
     "output_type": "stream",
     "text": [
      "<class 'pandas.core.frame.DataFrame'>\n",
      "RangeIndex: 7043 entries, 0 to 7042\n",
      "Data columns (total 21 columns):\n",
      " #   Column            Non-Null Count  Dtype  \n",
      "---  ------            --------------  -----  \n",
      " 0   customerID        7043 non-null   object \n",
      " 1   gender            7043 non-null   object \n",
      " 2   SeniorCitizen     7043 non-null   int64  \n",
      " 3   Partner           7043 non-null   object \n",
      " 4   Dependents        7043 non-null   object \n",
      " 5   tenure            7043 non-null   int64  \n",
      " 6   PhoneService      7043 non-null   object \n",
      " 7   MultipleLines     7043 non-null   object \n",
      " 8   InternetService   7043 non-null   object \n",
      " 9   OnlineSecurity    7043 non-null   object \n",
      " 10  OnlineBackup      7043 non-null   object \n",
      " 11  DeviceProtection  7043 non-null   object \n",
      " 12  TechSupport       7043 non-null   object \n",
      " 13  StreamingTV       7043 non-null   object \n",
      " 14  StreamingMovies   7043 non-null   object \n",
      " 15  Contract          7043 non-null   object \n",
      " 16  PaperlessBilling  7043 non-null   object \n",
      " 17  PaymentMethod     7043 non-null   object \n",
      " 18  MonthlyCharges    7043 non-null   float64\n",
      " 19  TotalCharges      7043 non-null   object \n",
      " 20  Churn             7043 non-null   object \n",
      "dtypes: float64(1), int64(2), object(18)\n",
      "memory usage: 1.1+ MB\n"
     ]
    },
    {
     "data": {
      "text/plain": [
       "(   customerID  gender  SeniorCitizen Partner Dependents  tenure PhoneService  \\\n",
       " 0  7590-VHVEG  Female              0     Yes         No       1           No   \n",
       " 1  5575-GNVDE    Male              0      No         No      34          Yes   \n",
       " 2  3668-QPYBK    Male              0      No         No       2          Yes   \n",
       " 3  7795-CFOCW    Male              0      No         No      45           No   \n",
       " 4  9237-HQITU  Female              0      No         No       2          Yes   \n",
       " \n",
       "       MultipleLines InternetService OnlineSecurity  ... DeviceProtection  \\\n",
       " 0  No phone service             DSL             No  ...               No   \n",
       " 1                No             DSL            Yes  ...              Yes   \n",
       " 2                No             DSL            Yes  ...               No   \n",
       " 3  No phone service             DSL            Yes  ...              Yes   \n",
       " 4                No     Fiber optic             No  ...               No   \n",
       " \n",
       "   TechSupport StreamingTV StreamingMovies        Contract PaperlessBilling  \\\n",
       " 0          No          No              No  Month-to-month              Yes   \n",
       " 1          No          No              No        One year               No   \n",
       " 2          No          No              No  Month-to-month              Yes   \n",
       " 3         Yes          No              No        One year               No   \n",
       " 4          No          No              No  Month-to-month              Yes   \n",
       " \n",
       "                PaymentMethod MonthlyCharges  TotalCharges Churn  \n",
       " 0           Electronic check          29.85         29.85    No  \n",
       " 1               Mailed check          56.95        1889.5    No  \n",
       " 2               Mailed check          53.85        108.15   Yes  \n",
       " 3  Bank transfer (automatic)          42.30       1840.75    No  \n",
       " 4           Electronic check          70.70        151.65   Yes  \n",
       " \n",
       " [5 rows x 21 columns],\n",
       " None)"
      ]
     },
     "execution_count": 5,
     "metadata": {},
     "output_type": "execute_result"
    }
   ],
   "source": [
    "telco_data = pd.read_csv(\"Telco_Customer_Churn.csv\")\n",
    "\n",
    "# Display the first few rows and general info of the dataset\n",
    "telco_data.head(), telco_data.info()"
   ]
  },
  {
   "cell_type": "raw",
   "metadata": {},
   "source": [
    "Key Observations:\n",
    "Columns Overview:\n",
    "\n",
    "Customer demographic information (e.g., gender, SeniorCitizen, Partner, Dependents).\n",
    "Service usage details (e.g., InternetService, OnlineSecurity, TechSupport).\n",
    "Payment and subscription information (e.g., Contract, PaymentMethod, MonthlyCharges, TotalCharges).\n",
    "Churn status (Churn), which indicates whether the customer left the service.\n",
    "Potential Data Quality Issues:\n",
    "\n",
    "TotalCharges is listed as an object type, but it likely represents a numeric value.\n",
    "No missing values are explicitly reported, but TotalCharges might need further examination for anomalies (e.g., blank entries).\n",
    "Distribution:\n",
    "\n",
    "Categorical columns dominate the dataset."
   ]
  },
  {
   "cell_type": "markdown",
   "metadata": {},
   "source": [
    "**Some data cleaning for missing values**"
   ]
  },
  {
   "cell_type": "code",
   "execution_count": 6,
   "metadata": {},
   "outputs": [
    {
     "data": {
      "text/plain": [
       "(customerID           0\n",
       " gender               0\n",
       " SeniorCitizen        0\n",
       " Partner              0\n",
       " Dependents           0\n",
       " tenure               0\n",
       " PhoneService         0\n",
       " MultipleLines        0\n",
       " InternetService      0\n",
       " OnlineSecurity       0\n",
       " OnlineBackup         0\n",
       " DeviceProtection     0\n",
       " TechSupport          0\n",
       " StreamingTV          0\n",
       " StreamingMovies      0\n",
       " Contract             0\n",
       " PaperlessBilling     0\n",
       " PaymentMethod        0\n",
       " MonthlyCharges       0\n",
       " TotalCharges        11\n",
       " Churn                0\n",
       " dtype: int64,\n",
       "       customerID  gender  SeniorCitizen Partner Dependents  tenure  \\\n",
       " 488   4472-LVYGI  Female              0     Yes        Yes       0   \n",
       " 753   3115-CZMZD    Male              0      No        Yes       0   \n",
       " 936   5709-LVOEQ  Female              0     Yes        Yes       0   \n",
       " 1082  4367-NUYAO    Male              0     Yes        Yes       0   \n",
       " 1340  1371-DWPAZ  Female              0     Yes        Yes       0   \n",
       " 3331  7644-OMVMY    Male              0     Yes        Yes       0   \n",
       " 3826  3213-VVOLG    Male              0     Yes        Yes       0   \n",
       " 4380  2520-SGTTA  Female              0     Yes        Yes       0   \n",
       " 5218  2923-ARZLG    Male              0     Yes        Yes       0   \n",
       " 6670  4075-WKNIU  Female              0     Yes        Yes       0   \n",
       " 6754  2775-SEFEE    Male              0      No        Yes       0   \n",
       " \n",
       "      PhoneService     MultipleLines InternetService       OnlineSecurity  ...  \\\n",
       " 488            No  No phone service             DSL                  Yes  ...   \n",
       " 753           Yes                No              No  No internet service  ...   \n",
       " 936           Yes                No             DSL                  Yes  ...   \n",
       " 1082          Yes               Yes              No  No internet service  ...   \n",
       " 1340           No  No phone service             DSL                  Yes  ...   \n",
       " 3331          Yes                No              No  No internet service  ...   \n",
       " 3826          Yes               Yes              No  No internet service  ...   \n",
       " 4380          Yes                No              No  No internet service  ...   \n",
       " 5218          Yes                No              No  No internet service  ...   \n",
       " 6670          Yes               Yes             DSL                   No  ...   \n",
       " 6754          Yes               Yes             DSL                  Yes  ...   \n",
       " \n",
       "          DeviceProtection          TechSupport          StreamingTV  \\\n",
       " 488                   Yes                  Yes                  Yes   \n",
       " 753   No internet service  No internet service  No internet service   \n",
       " 936                   Yes                   No                  Yes   \n",
       " 1082  No internet service  No internet service  No internet service   \n",
       " 1340                  Yes                  Yes                  Yes   \n",
       " 3331  No internet service  No internet service  No internet service   \n",
       " 3826  No internet service  No internet service  No internet service   \n",
       " 4380  No internet service  No internet service  No internet service   \n",
       " 5218  No internet service  No internet service  No internet service   \n",
       " 6670                  Yes                  Yes                  Yes   \n",
       " 6754                   No                  Yes                   No   \n",
       " \n",
       "           StreamingMovies  Contract PaperlessBilling  \\\n",
       " 488                    No  Two year              Yes   \n",
       " 753   No internet service  Two year               No   \n",
       " 936                   Yes  Two year               No   \n",
       " 1082  No internet service  Two year               No   \n",
       " 1340                   No  Two year               No   \n",
       " 3331  No internet service  Two year               No   \n",
       " 3826  No internet service  Two year               No   \n",
       " 4380  No internet service  Two year               No   \n",
       " 5218  No internet service  One year              Yes   \n",
       " 6670                   No  Two year               No   \n",
       " 6754                   No  Two year              Yes   \n",
       " \n",
       "                   PaymentMethod MonthlyCharges  TotalCharges  Churn  \n",
       " 488   Bank transfer (automatic)          52.55           NaN     No  \n",
       " 753                Mailed check          20.25           NaN     No  \n",
       " 936                Mailed check          80.85           NaN     No  \n",
       " 1082               Mailed check          25.75           NaN     No  \n",
       " 1340    Credit card (automatic)          56.05           NaN     No  \n",
       " 3331               Mailed check          19.85           NaN     No  \n",
       " 3826               Mailed check          25.35           NaN     No  \n",
       " 4380               Mailed check          20.00           NaN     No  \n",
       " 5218               Mailed check          19.70           NaN     No  \n",
       " 6670               Mailed check          73.35           NaN     No  \n",
       " 6754  Bank transfer (automatic)          61.90           NaN     No  \n",
       " \n",
       " [11 rows x 21 columns])"
      ]
     },
     "execution_count": 6,
     "metadata": {},
     "output_type": "execute_result"
    }
   ],
   "source": [
    "# Convert 'TotalCharges' to numeric, coercing errors to identify anomalies\n",
    "telco_data['TotalCharges'] = pd.to_numeric(telco_data['TotalCharges'], errors='coerce')\n",
    "\n",
    "# Check for missing values\n",
    "missing_values = telco_data.isnull().sum()\n",
    "\n",
    "# Display rows with missing 'TotalCharges'\n",
    "missing_total_charges = telco_data[telco_data['TotalCharges'].isnull()]\n",
    "\n",
    "# Summary of missing values\n",
    "missing_values, missing_total_charges\n"
   ]
  },
  {
   "cell_type": "markdown",
   "metadata": {},
   "source": [
    "The TotalCharges column has 11 missing values, which were caused by rows where tenure is 0. These customers likely did not complete a full billing cycle, resulting in TotalCharges being unavailable."
   ]
  },
  {
   "cell_type": "code",
   "execution_count": 7,
   "metadata": {},
   "outputs": [
    {
     "name": "stderr",
     "output_type": "stream",
     "text": [
      "C:\\Users\\parth\\AppData\\Local\\Temp\\ipykernel_9388\\117618189.py:2: FutureWarning: A value is trying to be set on a copy of a DataFrame or Series through chained assignment using an inplace method.\n",
      "The behavior will change in pandas 3.0. This inplace method will never work because the intermediate object on which we are setting values always behaves as a copy.\n",
      "\n",
      "For example, when doing 'df[col].method(value, inplace=True)', try using 'df.method({col: value}, inplace=True)' or df[col] = df[col].method(value) instead, to perform the operation inplace on the original object.\n",
      "\n",
      "\n",
      "  telco_data['TotalCharges'].fillna(0, inplace=True)\n"
     ]
    },
    {
     "data": {
      "text/plain": [
       "customerID          0\n",
       "gender              0\n",
       "SeniorCitizen       0\n",
       "Partner             0\n",
       "Dependents          0\n",
       "tenure              0\n",
       "PhoneService        0\n",
       "MultipleLines       0\n",
       "InternetService     0\n",
       "OnlineSecurity      0\n",
       "OnlineBackup        0\n",
       "DeviceProtection    0\n",
       "TechSupport         0\n",
       "StreamingTV         0\n",
       "StreamingMovies     0\n",
       "Contract            0\n",
       "PaperlessBilling    0\n",
       "PaymentMethod       0\n",
       "MonthlyCharges      0\n",
       "TotalCharges        0\n",
       "Churn               0\n",
       "dtype: int64"
      ]
     },
     "execution_count": 7,
     "metadata": {},
     "output_type": "execute_result"
    }
   ],
   "source": [
    "# Replace missing TotalCharges with 0\n",
    "telco_data['TotalCharges'].fillna(0, inplace=True)\n",
    "\n",
    "# Confirm there are no missing values\n",
    "missing_values_after_imputation = telco_data.isnull().sum()\n",
    "\n",
    "missing_values_after_imputation\n"
   ]
  },
  {
   "cell_type": "markdown",
   "metadata": {},
   "source": [
    "**Descriptive Stats**"
   ]
  },
  {
   "cell_type": "code",
   "execution_count": 8,
   "metadata": {},
   "outputs": [
    {
     "data": {
      "text/plain": [
       "(            tenure  MonthlyCharges  TotalCharges\n",
       " count  7043.000000     7043.000000   7043.000000\n",
       " mean     32.371149       64.761692   2279.734304\n",
       " std      24.559481       30.090047   2266.794470\n",
       " min       0.000000       18.250000      0.000000\n",
       " 25%       9.000000       35.500000    398.550000\n",
       " 50%      29.000000       70.350000   1394.550000\n",
       " 75%      55.000000       89.850000   3786.600000\n",
       " max      72.000000      118.750000   8684.800000,\n",
       " customerID          7043\n",
       " gender                 2\n",
       " Partner                2\n",
       " Dependents             2\n",
       " PhoneService           2\n",
       " MultipleLines          3\n",
       " InternetService        3\n",
       " OnlineSecurity         3\n",
       " OnlineBackup           3\n",
       " DeviceProtection       3\n",
       " TechSupport            3\n",
       " StreamingTV            3\n",
       " StreamingMovies        3\n",
       " Contract               3\n",
       " PaperlessBilling       2\n",
       " PaymentMethod          4\n",
       " Churn                  2\n",
       " dtype: int64)"
      ]
     },
     "execution_count": 8,
     "metadata": {},
     "output_type": "execute_result"
    }
   ],
   "source": [
    "# Descriptive statistics for numeric columns\n",
    "numeric_stats = telco_data[['tenure', 'MonthlyCharges', 'TotalCharges']].describe()\n",
    "\n",
    "# Frequency counts for categorical columns\n",
    "categorical_stats = telco_data.select_dtypes(include='object').nunique()\n",
    "\n",
    "numeric_stats, categorical_stats\n"
   ]
  },
  {
   "cell_type": "raw",
   "metadata": {
    "vscode": {
     "languageId": "raw"
    }
   },
   "source": [
    "Numeric Column Summary:\n",
    "Tenure: Ranges from 0 to 72 months, with a mean of ~32 months.\n",
    "MonthlyCharges: Varies between $18.25 and $118.75, with a mean of ~$64.76.\n",
    "TotalCharges: Varies between $0 (new customers) to $8684.80, with a mean of ~$2279.73."
   ]
  },
  {
   "cell_type": "raw",
   "metadata": {
    "vscode": {
     "languageId": "raw"
    }
   },
   "source": [
    "Categorical Column Overview:\n",
    "Columns like gender, Partner, Dependents, and Churn have 2 unique values.\n",
    "Service-related columns (e.g., InternetService, MultipleLines) have 3 unique values, reflecting different customer options.\n",
    "Payment-related columns (e.g., PaymentMethod) have up to 4 unique options."
   ]
  },
  {
   "cell_type": "markdown",
   "metadata": {},
   "source": [
    "**Churn Analysis**"
   ]
  },
  {
   "cell_type": "code",
   "execution_count": 12,
   "metadata": {},
   "outputs": [
    {
     "data": {
      "image/png": "[encoded data removed]",
      "text/plain": [
       "<Figure size 800x600 with 1 Axes>"
      ]
     },
     "metadata": {},
     "output_type": "display_data"
    },
    {
     "name": "stdout",
     "output_type": "stream",
     "text": [
      "Churn                 No       Yes\n",
      "Contract                          \n",
      "Month-to-month  0.572903  0.427097\n",
      "One year        0.887305  0.112695\n",
      "Two year        0.971681  0.028319\n",
      "\n",
      "Churn                            No       Yes\n",
      "PaymentMethod                                \n",
      "Bank transfer (automatic)  0.832902  0.167098\n",
      "Credit card (automatic)    0.847569  0.152431\n",
      "Electronic check           0.547146  0.452854\n",
      "Mailed check               0.808933  0.191067\n"
     ]
    }
   ],
   "source": [
    "\n",
    "# Churn distribution\n",
    "churn_counts = telco_data['Churn'].value_counts()\n",
    "\n",
    "# Visualize churn distribution\n",
    "plt.figure(figsize=(8, 6))\n",
    "plt.bar(churn_counts.index, churn_counts.values)\n",
    "plt.title(\"Churn Distribution\")\n",
    "plt.xlabel(\"Churn\")\n",
    "plt.ylabel(\"Count\")\n",
    "plt.xticks(ticks=range(len(churn_counts)), labels=churn_counts.index)\n",
    "plt.show()\n",
    "\n",
    "# Churn rates by Contract type\n",
    "churn_by_contract = telco_data.groupby('Contract')['Churn'].value_counts(normalize=True).unstack()\n",
    "\n",
    "# Churn rates by PaymentMethod\n",
    "churn_by_payment = telco_data.groupby('PaymentMethod')['Churn'].value_counts(normalize=True).unstack()\n",
    "\n",
    "print(churn_by_contract)\n",
    "print()\n",
    "print(churn_by_payment)"
   ]
  },
  {
   "cell_type": "raw",
   "metadata": {
    "vscode": {
     "languageId": "raw"
    }
   },
   "source": [
    "The churn analysis reveals the following:\n",
    "\n",
    "Overall Churn Distribution:\n",
    "\n",
    "The majority of customers have not churned, but a significant portion has.\n",
    "Churn Rates by Contract Type:\n",
    "\n",
    "Customers with month-to-month contracts have a much higher churn rate compared to those with longer-term contracts.\n",
    "Churn Rates by Payment Method:\n",
    "\n",
    "Customers using electronic checks exhibit the highest churn rate, while those using automatic payments (e.g., credit card, bank transfer) show much lower churn rates."
   ]
  },
  {
   "cell_type": "markdown",
   "metadata": {},
   "source": [
    "**Analyze churn by internet service type.**"
   ]
  },
  {
   "cell_type": "code",
   "execution_count": 13,
   "metadata": {},
   "outputs": [
    {
     "data": {
      "image/png": "[encoded data removed]",
      "text/plain": [
       "<Figure size 1000x600 with 1 Axes>"
      ]
     },
     "metadata": {},
     "output_type": "display_data"
    }
   ],
   "source": [
    "# Churn rates by InternetService type\n",
    "churn_by_internet_service = telco_data.groupby('InternetService')['Churn'].value_counts(normalize=True).unstack()\n",
    "\n",
    "# Visualize churn by InternetService type\n",
    "churn_by_internet_service.plot(kind='bar', figsize=(10, 6))\n",
    "plt.title(\"Churn Rates by Internet Service Type\")\n",
    "plt.xlabel(\"Internet Service Type\")\n",
    "plt.ylabel(\"Churn Rate\")\n",
    "plt.xticks(rotation=0)\n",
    "plt.legend(title=\"Churn\", loc='upper right')\n",
    "plt.show()\n"
   ]
  },
  {
   "cell_type": "markdown",
   "metadata": {},
   "source": [
    "Fiber Optic Service:\n",
    "\n",
    "Customers with fiber optic internet have the highest churn rate (~42%). This could indicate dissatisfaction or competition in this service type.\n",
    "DSL Service:\n",
    "\n",
    "DSL customers have a lower churn rate (~19%) compared to fiber optic.\n",
    "No Internet Service:\n",
    "\n",
    "Customers without internet service have the lowest churn rate (~7%), possibly because they rely on other services like phone or TV and are less likely to leave."
   ]
  },
  {
   "cell_type": "markdown",
   "metadata": {},
   "source": [
    "## Model Building"
   ]
  },
  {
   "cell_type": "markdown",
   "metadata": {},
   "source": [
    "1. Split the dataset into X and y\n",
    "2. Create xtrain, xtest, ytrain, ytest\n",
    "3. Perform cross validation on xtrain and ytrain(No hyperparameter tuning)\n",
    "4. Train the final model on xtrain and ytrain with the hyperparameters of the cross validated model.\n",
    "5. Test the final model on xtest and ytest."
   ]
  },
  {
   "cell_type": "code",
   "execution_count": 15,
   "metadata": {},
   "outputs": [
    {
     "data": {
      "text/plain": [
       "(array([0.80567879, 0.80035492, 0.78793256, 0.78527063, 0.78063943]),\n",
       " 0.7863733144073811,\n",
       " '              precision    recall  f1-score   support\\n\\n           0       0.83      0.89      0.86      1035\\n           1       0.63      0.49      0.55       374\\n\\n    accuracy                           0.79      1409\\n   macro avg       0.73      0.69      0.70      1409\\nweighted avg       0.77      0.79      0.78      1409\\n')"
      ]
     },
     "execution_count": 15,
     "metadata": {},
     "output_type": "execute_result"
    }
   ],
   "source": [
    "from sklearn.model_selection import train_test_split, cross_val_score\n",
    "from sklearn.compose import ColumnTransformer\n",
    "from sklearn.pipeline import Pipeline\n",
    "from sklearn.preprocessing import StandardScaler, OneHotEncoder\n",
    "from sklearn.ensemble import RandomForestClassifier\n",
    "from sklearn.metrics import classification_report, accuracy_score\n",
    "\n",
    "# Splitting the dataset into features (X) and target (y)\n",
    "X = telco_data.drop(columns=['customerID', 'Churn'])\n",
    "y = telco_data['Churn'].apply(lambda x: 1 if x == 'Yes' else 0)\n",
    "\n",
    "# Split the dataset into training and testing sets\n",
    "X_train, X_test, y_train, y_test = train_test_split(X, y, test_size=0.2, random_state=42, stratify=y)\n",
    "\n",
    "# Define categorical and numerical columns\n",
    "categorical_cols = X.select_dtypes(include=['object']).columns\n",
    "numerical_cols = X.select_dtypes(include=['int64', 'float64']).columns\n",
    "\n",
    "# Define the preprocessing pipeline\n",
    "preprocessor = ColumnTransformer(\n",
    "    transformers=[\n",
    "        ('num', StandardScaler(), numerical_cols),\n",
    "        ('cat', OneHotEncoder(handle_unknown='ignore'), categorical_cols)\n",
    "    ]\n",
    ")\n",
    "\n",
    "# Create a pipeline for the RandomForestClassifier\n",
    "pipeline = Pipeline([\n",
    "    ('preprocessor', preprocessor),\n",
    "    ('classifier', RandomForestClassifier(random_state=42))\n",
    "])\n",
    "\n",
    "# Perform cross-validation\n",
    "cv_scores = cross_val_score(pipeline, X_train, y_train, cv=5, scoring='accuracy')\n",
    "\n",
    "# Train the final model on the full training set\n",
    "pipeline.fit(X_train, y_train)\n",
    "\n",
    "# Test the final model on the test set\n",
    "y_pred = pipeline.predict(X_test)\n",
    "\n",
    "# Evaluate the final model\n",
    "classification_report_test = classification_report(y_test, y_pred)\n",
    "accuracy_test = accuracy_score(y_test, y_pred)\n",
    "\n",
    "cv_scores, accuracy_test, classification_report_test\n"
   ]
  },
  {
   "cell_type": "raw",
   "metadata": {
    "vscode": {
     "languageId": "raw"
    }
   },
   "source": [
    "Model Performance Summary:\n",
    "Cross-Validation Accuracy:\n",
    "\n",
    "Mean CV Accuracy: ~80.0%\n",
    "This indicates the model's stability across different training folds.\n",
    "Test Set Accuracy:\n",
    "\n",
    "Accuracy on the test set: ~78.6%\n",
    "Classification Report:\n",
    "\n",
    "Class 0 (No Churn):\n",
    "Precision: 0.83\n",
    "Recall: 0.89\n",
    "F1-score: 0.86\n",
    "Class 1 (Churn):\n",
    "Precision: 0.63\n",
    "Recall: 0.49\n",
    "F1-score: 0.55\n",
    "The model performs well on the majority class (No Churn) but struggles with the minority class (Churn).\n",
    "Observations:\n",
    "The model achieves reasonable accuracy but shows an imbalance in handling churn (Class 1). This could be improved with techniques like oversampling, undersampling, or adjusting class weights"
   ]
  },
  {
   "cell_type": "markdown",
   "metadata": {},
   "source": [
    "**Final Model training**"
   ]
  },
  {
   "cell_type": "code",
   "execution_count": 20,
   "metadata": {},
   "outputs": [
    {
     "name": "stdout",
     "output_type": "stream",
     "text": [
      "0.7863733144073811 \n",
      "\n",
      "               precision    recall  f1-score   support\n",
      "\n",
      "           0       0.83      0.89      0.86      1035\n",
      "           1       0.63      0.49      0.55       374\n",
      "\n",
      "    accuracy                           0.79      1409\n",
      "   macro avg       0.73      0.69      0.70      1409\n",
      "weighted avg       0.77      0.79      0.78      1409\n",
      "\n"
     ]
    }
   ],
   "source": [
    "# Train the final model on the full training set\n",
    "pipeline.fit(X_train, y_train)\n",
    "\n",
    "# Predict on the test set\n",
    "y_pred_final = pipeline.predict(X_test)\n",
    "\n",
    "# Evaluate the final model\n",
    "final_classification_report = classification_report(y_test, y_pred_final)\n",
    "final_accuracy = accuracy_score(y_test, y_pred_final)\n",
    "\n",
    "# Extract feature importance from the trained RandomForestClassifier\n",
    "final_model = pipeline.named_steps['classifier']\n",
    "feature_names = (\n",
    "    list(numerical_cols) +\n",
    "    list(pipeline.named_steps['preprocessor']\n",
    "         .named_transformers_['cat']\n",
    "         .get_feature_names_out(categorical_cols))\n",
    ")\n",
    "feature_importances = final_model.feature_importances_\n",
    "\n",
    "# Combine feature importance with feature names\n",
    "feature_importance_df = pd.DataFrame({\n",
    "    'Feature': feature_names,\n",
    "    'Importance': feature_importances\n",
    "}).sort_values(by='Importance', ascending=False)\n",
    "\n",
    "\n",
    "print(final_accuracy,\"\\n\\n\", final_classification_report)\n"
   ]
  },
  {
   "cell_type": "raw",
   "metadata": {},
   "source": [
    "Final Model Performance:\n",
    "Accuracy on Test Set: ~78.6%\n",
    "Classification Report:\n",
    "Class 0 (No Churn): Precision: 0.83, Recall: 0.89, F1-Score: 0.86\n",
    "Class 1 (Churn): Precision: 0.63, Recall: 0.49, F1-Score: 0.55\n",
    "The model shows good performance for the majority class (No Churn) but continues to struggle with the minority class (Churn)."
   ]
  },
  {
   "cell_type": "code",
   "execution_count": null,
   "metadata": {},
   "outputs": [],
   "source": []
  }
 ],
 "metadata": {
  "kernelspec": {
   "display_name": "customer_churn",
   "language": "python",
   "name": "python3"
  },
  "language_info": {
   "codemirror_mode": {
    "name": "ipython",
    "version": 3
   },
   "file_extension": ".py",
   "mimetype": "text/x-python",
   "name": "python",
   "nbconvert_exporter": "python",
   "pygments_lexer": "ipython3",
   "version": "3.12.8"
  }
 },
 "nbformat": 4,
 "nbformat_minor": 2
}
